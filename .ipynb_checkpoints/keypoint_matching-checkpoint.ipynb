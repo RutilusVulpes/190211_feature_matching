{
 "cells": [
  {
   "cell_type": "markdown",
   "metadata": {},
   "source": [
    "# Feature Matching\n",
    "\n",
    "## Corner detection for matching\n",
    "We have spent a good deal of time thinking about how to extract *good* points from images, where *good* in this case implies that they change alot in all directions, which makes them possible to localize.  Because these features are relatively rare (how many really good keypoints did you extract in the last notebook?), it stands to reason that they might be robust to changes in the image.  **Take two overlapping photos with a phone or webcam.  Run Harris Corner Detection on each, and think about whether the keypoints extracted in image 1 correspond to those in image 2.  How much of the time?**\n"
   ]
  },
  {
   "cell_type": "code",
   "execution_count": 1,
   "metadata": {},
   "outputs": [
    {
     "data": {
      "text/plain": [
       "<Figure size 640x480 with 1 Axes>"
      ]
     },
     "metadata": {},
     "output_type": "display_data"
    },
    {
     "data": {
      "text/plain": [
       "<Figure size 640x480 with 1 Axes>"
      ]
     },
     "metadata": {},
     "output_type": "display_data"
    },
    {
     "name": "stdout",
     "output_type": "stream",
     "text": [
      "[[ 0.00000000e+00  0.00000000e+00  0.00000000e+00 ...  0.00000000e+00\n",
      "   0.00000000e+00  0.00000000e+00]\n",
      " [ 0.00000000e+00  4.77736340e-15  0.00000000e+00 ...  0.00000000e+00\n",
      "   0.00000000e+00  0.00000000e+00]\n",
      " [ 0.00000000e+00  0.00000000e+00  7.24136891e+01 ...  1.84060660e+01\n",
      "  -1.21140207e-16  0.00000000e+00]\n",
      " ...\n",
      " [ 0.00000000e+00  0.00000000e+00  9.67036985e+00 ...  1.30800652e+01\n",
      "  -1.03970391e-16  0.00000000e+00]\n",
      " [ 0.00000000e+00  0.00000000e+00 -3.40868170e-16 ... -5.12116093e-16\n",
      "  -1.64675697e-17  0.00000000e+00]\n",
      " [ 0.00000000e+00  0.00000000e+00  0.00000000e+00 ...  0.00000000e+00\n",
      "   0.00000000e+00  0.00000000e+00]]\n",
      "[[ 0.00000000e+00  0.00000000e+00  0.00000000e+00 ...  0.00000000e+00\n",
      "   0.00000000e+00  0.00000000e+00]\n",
      " [ 0.00000000e+00 -7.66556209e-16 -7.13801586e-17 ...  9.24842512e-16\n",
      "   0.00000000e+00  0.00000000e+00]\n",
      " [ 0.00000000e+00 -5.75784156e-16  4.91227933e+00 ...  5.15921732e+01\n",
      "   0.00000000e+00  0.00000000e+00]\n",
      " ...\n",
      " [ 0.00000000e+00  1.05381469e-14  9.55129759e+02 ...  1.96097795e+01\n",
      "   3.48189811e-15  0.00000000e+00]\n",
      " [ 0.00000000e+00 -1.40374184e-14  9.06359008e-14 ... -9.75580967e-15\n",
      "   0.00000000e+00  0.00000000e+00]\n",
      " [ 0.00000000e+00  0.00000000e+00  0.00000000e+00 ...  0.00000000e+00\n",
      "   0.00000000e+00  0.00000000e+00]]\n"
     ]
    },
    {
     "data": {
<<<<<<< HEAD
      "image/png": "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\n",
=======
>>>>>>> 844a2ea5d5379690d87bc0e2583c0ac1d4f86cbd
      "text/plain": [
       "<Figure size 640x480 with 1 Axes>"
      ]
     },
     "metadata": {},
     "output_type": "display_data"
    },
    {
     "data": {
<<<<<<< HEAD
      "image/png": "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\n",
=======
>>>>>>> 844a2ea5d5379690d87bc0e2583c0ac1d4f86cbd
      "text/plain": [
       "<Figure size 640x480 with 1 Axes>"
      ]
     },
     "metadata": {},
     "output_type": "display_data"
    }
   ],
   "source": [
    "import matplotlib.pyplot as plt\n",
    "import numpy as np\n",
    "import cornermatching as cm \n",
    "\n",
    "# Read in both images and set them to grayscale\n",
    "I1 = plt.imread('im1.jpg')\n",
    "I1 = I1.mean(axis=2)\n",
    "\n",
    "I2 = plt.imread('im2.jpg')\n",
    "I2 = I2.mean(axis=2)\n",
    "## \n",
    "\n",
    "# Gauss kernel\n",
    "g_kernal = cm.gauss_kernal(5,2)\n",
    "\n",
    "# Convolve the two images\n",
    "plt.imshow(I1, cmap=\"gray\")\n",
    "I1 = cm.convolve(I1, g_kernal)\n",
    "plt.show()\n",
    "\n",
    "plt.imshow(I2, cmap=\"gray\")\n",
    "I2 = cm.convolve(I2, g_kernal)\n",
    "plt.show()\n",
    "\n",
    "H1 = cm.harris_response(I1)\n",
    "H2 = cm.harris_response(I2)\n",
    "\n",
    "#print(np.matrix(H1))\n",
    "#print(np.matrix(H2))\n",
    "\n",
    "plt.imshow(H1, cmap=\"gray\")\n",
    "plt.show()\n",
    "plt.imshow(H2, cmap=\"gray\")\n",
    "plt.show()\n",
    "\n",
    "\n",
    "\n"
   ]
  },
  {
   "cell_type": "markdown",
   "metadata": {},
   "source": [
    "## Descriptor extraction\n",
    "Of course, having to determine matches by hand would go against our principles of automation.  What we want is to determine the correspondences between features in two (or more) images automatically.  While your readings of Szeliski 4.1 have probably made you think that this is a complicated process involving histograms of gradients and complex transforms of image patches, we can produce a surprisingly effective keypoint matching technique using simple sum square error.  First, we need to come up with our feature *descriptor*.  This is just a little chunk of data that describes our keypoint.  It needs to cover some area: just recording the intensity of the pixel at the corner isn't going to do the trick because this value is so non-unique.  At the same time, it shouldn't be too big: matching areas that are too large is expensive and potentially leads to some confusion between keypoints whose feature descriptors overlap in image space.  For now, for each keypoint let's just extract the image intensities of an $l \\times l$ patch centered at the keypoint location.  While we could do something more fancy, let's call this little patch of image centered at the keypoint our *descriptor*.  **Extract descriptors for the top n=100 keypoints in both the images taken above.  (Hint: l=21 is often a good choice).**"
   ]
  },
  {
   "cell_type": "code",
   "execution_count": 11,
   "metadata": {},
   "outputs": [
    {
     "name": "stdout",
     "output_type": "stream",
     "text": [
      "(21, 21)\n"
     ]
    }
   ],
   "source": [
    "def extract_descriptors(I, key_points):\n",
    "    l = 21\n",
    "    descriptors = []\n",
    "    for x in range(len(key_points)):\n",
    "        i = int(key_points[x][0]) # Row of the keypoint in I\n",
    "        j = int(key_points[x][1]) # Column of the keypoint in I\n",
    "        \n",
    "        descriptors.append(I[i-10:i+11, j-10:j+11])\n",
    "        \n",
    "    return descriptors\n",
    "\n",
    "# Key points for Image 1\n",
    "key_pts_I1 = cm.nonmaxsup(H1)\n",
    "\n",
    "# Key points for Image 2\n",
    "key_pts_I2 = cm.nonmaxsup(H1)\n",
    "\n",
    "# Descriptors for Image 1\n",
    "descriptors_I1 = extract_descriptors(I1, key_pts_I1)\n",
    "\n",
    "# Descriptors for Image 2\n",
    "descriptors_I2 = extract_descriptors(I2, key_pts_I2)\n"
   ]
  },
  {
   "cell_type": "markdown",
   "metadata": {},
   "source": [
    "## Descriptor matching\n",
    "Now that we have extracted features, we need to form correspondences between features in each image via *matching*.  While there are many more efficient ways to perform feature matching, oftentimes the simplest and most effective method is the so-called brute force method: for each descriptor in image 1, compare it to each descriptor in image 2, and determine the one that is the best match.  To do this we need to define a mathematical value for what constitutes a good match.  In this case, I suggest using *z-normalized sum squared error*, e.g.\n",
    "\n",
    "$$\n",
    "\\hat{D}_i = \\frac{D_i - \\bar{D_i}}{\\mathrm{std}(D_i)}\n",
    "$$\n",
    "$$\n",
    "\\hat{D}_j = \\frac{D_j - \\bar{D_j}}{\\mathrm{std}(D_j)}\n",
    "$$\n",
    "$$\n",
    "E_{ij} = \\sum_{p} (D_{i,p} - D_{j,p})^2, \n",
    "$$\n",
    "where $D_i$ is the $i-$th keypoint descriptor for image 1 and $D_j$ is the $j-$th keypoint descriptor for image 2.  The z-normalization helps to ameliorate difficulties associated with changes in lighting and image intensity.  **Compute $E_{ij}$ for each pair of descriptors, and find the match for which $E_{ij}$ is smallest.  Plot the two images side by side and overlay lines connecting keypoints in each image to their best match in the other image.** An example might look like this:\n",
    "<img src=\"unfiltered_matches.png\">"
   ]
  },
  {
   "cell_type": "code",
   "execution_count": 25,
   "metadata": {},
   "outputs": [],
   "source": [
    "def sum_squared_error(D1,D2):\n",
    "    \n",
    "    sse = 0.0\n",
    "    \n",
    "    if(D1.shape == D2.shape):\n",
    "\n",
    "        for i in range(len(D1)):\n",
    "            for j in range(len(D2[i])):\n",
    "                sse += (D1[i][j] - D2[i][j])**2\n",
    "    else:\n",
    "        return np.inf\n",
    "            \n",
    "    return sse\n",
    "\n",
    "best_sse = np.inf\n",
    "best_descriptor = None\n",
    "best_matches = []\n",
    "\n",
    "for descriptor_I1 in descriptors_I1:\n",
    "    for descriptor_I2 in descriptors_I2:\n",
    "        sse = sum_squared_error(descriptor_I1, descriptor_I2)\n",
    "        if(sse < best_sse):\n",
    "            best_sse = sse\n",
    "            best_descriptor = descriptor_I2\n",
    "    best_matches.append(best_descriptor)\n",
    "    \n"
   ]
  },
  {
   "cell_type": "markdown",
   "metadata": {},
   "source": [
    "Notice the plethora of spurious matches.  We need some way to pare down these matches, keeping only ones that are *robust*.  While it might be tempting to simply threshold on the value of $E_{ij}$, it has been shown (in the Lowe paper assigned as the grad increment) that a better method is to *threshold on the ratio between the best and second best keypoint match*, which is to say that we want to keep matches for which:\n",
    "$$\n",
    "E_{i,\\mathrm{best}} > r E_{i,\\mathrm{second best}},\n",
    "$$\n",
    "where $r$ is a threshold value, often taken as $r\\in[0.5,0.7]$.  This test ensures that matches are highly unique, and that our procedure isn't arbitrarily choosing between two or more similarly good (or bad) matches.  **Run this test on your computed keypoint matches, filtering out all the matches that fail the test.  Recreate the figure from the above section, but only keeping the matches that pass the ratio test.**\n"
   ]
  },
  {
   "cell_type": "code",
   "execution_count": null,
   "metadata": {},
   "outputs": [],
   "source": []
  }
 ],
 "metadata": {
  "kernelspec": {
   "display_name": "Python 3",
   "language": "python",
   "name": "python3"
  },
  "language_info": {
   "codemirror_mode": {
    "name": "ipython",
    "version": 3
   },
   "file_extension": ".py",
   "mimetype": "text/x-python",
   "name": "python",
   "nbconvert_exporter": "python",
   "pygments_lexer": "ipython3",
   "version": "3.6.7"
  }
 },
 "nbformat": 4,
 "nbformat_minor": 2
}
