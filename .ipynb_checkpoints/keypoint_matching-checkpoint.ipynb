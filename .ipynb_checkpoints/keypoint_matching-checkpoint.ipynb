{
 "cells": [
  {
   "cell_type": "markdown",
   "metadata": {},
   "source": [
    "# Feature Matching\n",
    "\n",
    "## Corner detection for matching\n",
    "We have spent a good deal of time thinking about how to extract *good* points from images, where *good* in this case implies that they change alot in all directions, which makes them possible to localize.  Because these features are relatively rare (how many really good keypoints did you extract in the last notebook?), it stands to reason that they might be robust to changes in the image.  **Take two overlapping photos with a phone or webcam.  Run Harris Corner Detection on each, and think about whether the keypoints extracted in image 1 correspond to those in image 2.  How much of the time?**\n"
   ]
  },
  {
   "cell_type": "code",
   "execution_count": 1,
   "metadata": {},
   "outputs": [
    {
     "data": {
      "text/plain": [
       "<Figure size 640x480 with 1 Axes>"
      ]
     },
     "metadata": {},
     "output_type": "display_data"
    },
    {
     "data": {
      "text/plain": [
       "<Figure size 640x480 with 1 Axes>"
      ]
     },
     "metadata": {},
     "output_type": "display_data"
    },
    {
     "name": "stdout",
     "output_type": "stream",
     "text": [
      "[[ 0.00000000e+00  0.00000000e+00  0.00000000e+00 ...  0.00000000e+00\n",
      "   0.00000000e+00  0.00000000e+00]\n",
      " [ 0.00000000e+00  4.77736340e-15  0.00000000e+00 ...  0.00000000e+00\n",
      "   0.00000000e+00  0.00000000e+00]\n",
      " [ 0.00000000e+00  0.00000000e+00  7.24136891e+01 ...  1.84060660e+01\n",
      "  -1.21140207e-16  0.00000000e+00]\n",
      " ...\n",
      " [ 0.00000000e+00  0.00000000e+00  9.67036985e+00 ...  1.30800652e+01\n",
      "  -1.03970391e-16  0.00000000e+00]\n",
      " [ 0.00000000e+00  0.00000000e+00 -3.40868170e-16 ... -5.12116093e-16\n",
      "  -1.64675697e-17  0.00000000e+00]\n",
      " [ 0.00000000e+00  0.00000000e+00  0.00000000e+00 ...  0.00000000e+00\n",
      "   0.00000000e+00  0.00000000e+00]]\n",
      "[[ 0.00000000e+00  0.00000000e+00  0.00000000e+00 ...  0.00000000e+00\n",
      "   0.00000000e+00  0.00000000e+00]\n",
      " [ 0.00000000e+00 -7.66556209e-16 -7.13801586e-17 ...  9.24842512e-16\n",
      "   0.00000000e+00  0.00000000e+00]\n",
      " [ 0.00000000e+00 -5.75784156e-16  4.91227933e+00 ...  5.15921732e+01\n",
      "   0.00000000e+00  0.00000000e+00]\n",
      " ...\n",
      " [ 0.00000000e+00  1.05381469e-14  9.55129759e+02 ...  1.96097795e+01\n",
      "   3.48189811e-15  0.00000000e+00]\n",
      " [ 0.00000000e+00 -1.40374184e-14  9.06359008e-14 ... -9.75580967e-15\n",
      "   0.00000000e+00  0.00000000e+00]\n",
      " [ 0.00000000e+00  0.00000000e+00  0.00000000e+00 ...  0.00000000e+00\n",
      "   0.00000000e+00  0.00000000e+00]]\n"
     ]
    },
    {
     "data": {
      "text/plain": [
       "<Figure size 640x480 with 1 Axes>"
      ]
     },
     "metadata": {},
     "output_type": "display_data"
    },
    {
     "data": {
      "text/plain": [
       "<Figure size 640x480 with 1 Axes>"
      ]
     },
     "metadata": {},
     "output_type": "display_data"
    }
   ],
   "source": [
    "import matplotlib.pyplot as plt\n",
    "import numpy as np\n",
    "import cornermatching as cm \n",
    "\n",
    "# Read in both images and set them to grayscale\n",
    "I1 = plt.imread('im1.jpg')\n",
    "I1 = I1.mean(axis=2)\n",
    "\n",
    "I2 = plt.imread('im2.jpg')\n",
    "I2 = I2.mean(axis=2)\n",
    "## \n",
    "\n",
    "# Gauss kernel\n",
    "g_kernal = cm.gauss_kernal(5,2)\n",
    "\n",
    "# Convolve the two images\n",
    "plt.imshow(I1, cmap=\"gray\")\n",
    "I1 = cm.convolve(I1, g_kernal)\n",
    "plt.show()\n",
    "\n",
    "plt.imshow(I2, cmap=\"gray\")\n",
    "I2 = cm.convolve(I2, g_kernal)\n",
    "plt.show()\n",
    "\n",
    "H1 = cm.harris_response(I1)\n",
    "H2 = cm.harris_response(I2)\n",
    "\n",
    "#print(np.matrix(H1))\n",
    "#print(np.matrix(H2))\n",
    "\n",
    "plt.imshow(H1, cmap=\"gray\")\n",
    "plt.show()\n",
    "plt.imshow(H2, cmap=\"gray\")\n",
    "plt.show()\n",
    "\n",
    "\n",
    "\n"
   ]
  },
  {
   "cell_type": "markdown",
   "metadata": {},
   "source": [
    "## Descriptor extraction\n",
    "Of course, having to determine matches by hand would go against our principles of automation.  What we want is to determine the correspondences between features in two (or more) images automatically.  While your readings of Szeliski 4.1 have probably made you think that this is a complicated process involving histograms of gradients and complex transforms of image patches, we can produce a surprisingly effective keypoint matching technique using simple sum square error.  First, we need to come up with our feature *descriptor*.  This is just a little chunk of data that describes our keypoint.  It needs to cover some area: just recording the intensity of the pixel at the corner isn't going to do the trick because this value is so non-unique.  At the same time, it shouldn't be too big: matching areas that are too large is expensive and potentially leads to some confusion between keypoints whose feature descriptors overlap in image space.  For now, for each keypoint let's just extract the image intensities of an $l \\times l$ patch centered at the keypoint location.  While we could do something more fancy, let's call this little patch of image centered at the keypoint our *descriptor*.  **Extract descriptors for the top n=100 keypoints in both the images taken above.  (Hint: l=21 is often a good choice).**"
   ]
  },
  {
   "cell_type": "code",
   "execution_count": null,
   "metadata": {},
   "outputs": [],
   "source": []
  },
  {
   "cell_type": "markdown",
   "metadata": {},
   "source": [
    "## Descriptor matching\n",
    "Now that we have extracted features, we need to form correspondences between features in each image via *matching*.  While there are many more efficient ways to perform feature matching, oftentimes the simplest and most effective method is the so-called brute force method: for each descriptor in image 1, compare it to each descriptor in image 2, and determine the one that is the best match.  To do this we need to define a mathematical value for what constitutes a good match.  In this case, I suggest using *z-normalized sum squared error*, e.g.\n",
    "\n",
    "$$\n",
    "\\hat{D}_i = \\frac{D_i - \\bar{D_i}}{\\mathrm{std}(D_i)}\n",
    "$$\n",
    "$$\n",
    "\\hat{D}_j = \\frac{D_j - \\bar{D_j}}{\\mathrm{std}(D_j)}\n",
    "$$\n",
    "$$\n",
    "E_{ij} = \\sum_{p} (D_{i,p} - D_{j,p})^2, \n",
    "$$\n",
    "where $D_i$ is the $i-$th keypoint descriptor for image 1 and $D_j$ is the $j-$th keypoint descriptor for image 2.  The z-normalization helps to ameliorate difficulties associated with changes in lighting and image intensity.  **Compute $E_{ij}$ for each pair of descriptors, and find the match for which $E_{ij}$ is smallest.  Plot the two images side by side and overlay lines connecting keypoints in each image to their best match in the other image.** An example might look like this:\n",
    "<img src=\"unfiltered_matches.png\">"
   ]
  },
  {
   "cell_type": "code",
   "execution_count": null,
   "metadata": {},
   "outputs": [],
   "source": []
  },
  {
   "cell_type": "markdown",
   "metadata": {},
   "source": [
    "Notice the plethora of spurious matches.  We need some way to pare down these matches, keeping only ones that are *robust*.  While it might be tempting to simply threshold on the value of $E_{ij}$, it has been shown (in the Lowe paper assigned as the grad increment) that a better method is to *threshold on the ratio between the best and second best keypoint match*, which is to say that we want to keep matches for which:\n",
    "$$\n",
    "E_{i,\\mathrm{best}} > r E_{i,\\mathrm{second best}},\n",
    "$$\n",
    "where $r$ is a threshold value, often taken as $r\\in[0.5,0.7]$.  This test ensures that matches are highly unique, and that our procedure isn't arbitrarily choosing between two or more similarly good (or bad) matches.  **Run this test on your computed keypoint matches, filtering out all the matches that fail the test.  Recreate the figure from the above section, but only keeping the matches that pass the ratio test.**\n"
   ]
  },
  {
   "cell_type": "code",
   "execution_count": null,
   "metadata": {},
   "outputs": [],
   "source": []
  }
 ],
 "metadata": {
  "kernelspec": {
   "display_name": "Python 3",
   "language": "python",
   "name": "python3"
  },
  "language_info": {
   "codemirror_mode": {
    "name": "ipython",
    "version": 3
   },
   "file_extension": ".py",
   "mimetype": "text/x-python",
   "name": "python",
   "nbconvert_exporter": "python",
   "pygments_lexer": "ipython3",
   "version": "3.6.7"
  }
 },
 "nbformat": 4,
 "nbformat_minor": 2
}
